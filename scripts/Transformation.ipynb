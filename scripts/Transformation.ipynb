{
 "cells": [
  {
   "cell_type": "code",
   "execution_count": 2,
   "id": "43a78aca",
   "metadata": {},
   "outputs": [],
   "source": [
    "#Import Libraries\n",
    "import pandas as pd\n",
    "import numpy as np\n",
    "import json\n",
    "import requests\n",
    "import csv\n",
    "from io import StringIO\n",
    "from azure.storage.blob import BlobServiceClient, BlobClient, ContainerClient\n",
    "from math import ceil\n",
    "import datetime\n",
    "import calendar"
   ]
  },
  {
   "cell_type": "code",
   "execution_count": 13,
   "id": "5aeff754",
   "metadata": {},
   "outputs": [
    {
     "name": "stdout",
     "output_type": "stream",
     "text": [
      "/content/drive/MyDrive/OP_DTL_GNRL_PGYR2022_P01182024.csv\n",
      "(3916, 30)\n"
     ]
    }
   ],
   "source": [
    "CONNECTION_STRING_AZURE_STORAGE = 'DefaultEndpointsProtocol=https;AccountName=stcis4400spr24;AccountKey=rYko2OP7g7sVhOZyRDr7y+JAdH3ssWiHuFU3So58w0ub02d1REAvapF3LbW4jZKdfBJhgTEEa4wg+AStBaZT1w==;EndpointSuffix=core.windows.net'\n",
    "CONTAINER_AZURE = 'generalpaymentdata'\n",
    "\n",
    "# Initialize the BlobServiceClient\n",
    "blob_service_client = BlobServiceClient.from_connection_string (CONNECTION_STRING_AZURE_STORAGE)\n",
    "# Get the container client\n",
    "container_client = blob_service_client.get_container_client (CONTAINER_AZURE)\n",
    "\n",
    "df_generalpaymentdata = pd.DataFrame()\n",
    "\n",
    "# List all blobs in the speciffed container\n",
    "blob_list = container_client.list_blobs ()\n",
    "for blob in blob_list:\n",
    "  print (blob.name)\n",
    "  blob_client = container_client.get_blob_client (blob=blob.name)\n",
    "  blob_data = blob_client.download_blob()\n",
    "  blob_content = blob_data.readall().decode('utf-8')\n",
    "  df = pd.read_csv(StringIO(blob_content))\n",
    "  # Display the head of the DataFrame\n",
    "  print (df.shape)\n",
    "  # sind I have only one csv, I am doing to do the following instructions\n",
    "  df_generalpaymentdata = df.copy()"
   ]
  },
  {
   "cell_type": "code",
   "execution_count": 12,
   "id": "3c9abbf3",
   "metadata": {},
   "outputs": [
    {
     "name": "stdout",
     "output_type": "stream",
     "text": [
      "<class 'pandas.core.frame.DataFrame'>\n",
      "RangeIndex: 3916 entries, 0 to 3915\n",
      "Data columns (total 30 columns):\n",
      " #   Column                                                            Non-Null Count  Dtype  \n",
      "---  ------                                                            --------------  -----  \n",
      " 0   Change_Type                                                       3916 non-null   object \n",
      " 1   Physician_Profile_ID                                              3916 non-null   int64  \n",
      " 2   Physician_NPI                                                     3913 non-null   float64\n",
      " 3   Physician_First_Name                                              3916 non-null   object \n",
      " 4   Physician_Middle_Name                                             1414 non-null   object \n",
      " 5   Physician_Last_Name                                               3916 non-null   object \n",
      " 6   Physician_Name_Suffix                                             149 non-null    object \n",
      " 7   Recipient_Primary_Business_Street_Address_Line1                   3916 non-null   object \n",
      " 8   Recipient_Primary_Business_Street_Address_Line2                   1844 non-null   object \n",
      " 9   Recipient_City                                                    3916 non-null   object \n",
      " 10  Recipient_State                                                   3915 non-null   object \n",
      " 11  Recipient_Zip_Code                                                3915 non-null   object \n",
      " 12  Recipient_Country                                                 3916 non-null   object \n",
      " 13  Recipient_Province                                                1 non-null      object \n",
      " 14  Recipient_Postal_Code                                             1 non-null      float64\n",
      " 15  Physician_Primary_Type                                            3916 non-null   object \n",
      " 16  Physician_Specialty                                               3916 non-null   object \n",
      " 17  Record_ID                                                         3916 non-null   int64  \n",
      " 18  Program_Year                                                      3916 non-null   int64  \n",
      " 19  Total_Amount_Invested_USDollars                                   3916 non-null   float64\n",
      " 20  Value_of_Interest                                                 3916 non-null   float64\n",
      " 21  Terms_of_Interest                                                 3883 non-null   object \n",
      " 22  Submitting_Applicable_Manufacturer_or_Applicable_GPO_Name         3916 non-null   object \n",
      " 23  Applicable_Manufacturer_or_Applicable_GPO_Making_Payment_ID       3916 non-null   int64  \n",
      " 24  Applicable_Manufacturer_or_Applicable_GPO_Making_Payment_Name     3916 non-null   object \n",
      " 25  Applicable_Manufacturer_or_Applicable_GPO_Making_Payment_State    3883 non-null   object \n",
      " 26  Applicable_Manufacturer_or_Applicable_GPO_Making_Payment_Country  3916 non-null   object \n",
      " 27  Dispute_Status_for_Publication                                    3916 non-null   object \n",
      " 28  Interest_Held_by_Physician_or_an_Immediate_Family_Member          3916 non-null   object \n",
      " 29  Payment_Publication_Date                                          3916 non-null   object \n",
      "dtypes: float64(4), int64(4), object(22)\n",
      "memory usage: 917.9+ KB\n"
     ]
    }
   ],
   "source": [
    "df_generalpaymentdata.info()"
   ]
  },
  {
   "cell_type": "code",
   "execution_count": null,
   "id": "692084fa",
   "metadata": {},
   "outputs": [],
   "source": []
  }
 ],
 "metadata": {
  "kernelspec": {
   "display_name": "Python 3 (ipykernel)",
   "language": "python",
   "name": "python3"
  },
  "language_info": {
   "codemirror_mode": {
    "name": "ipython",
    "version": 3
   },
   "file_extension": ".py",
   "mimetype": "text/x-python",
   "name": "python",
   "nbconvert_exporter": "python",
   "pygments_lexer": "ipython3",
   "version": "3.11.1"
  }
 },
 "nbformat": 4,
 "nbformat_minor": 5
}
